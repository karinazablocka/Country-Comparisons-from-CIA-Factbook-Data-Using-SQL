{
 "cells": [
  {
   "cell_type": "markdown",
   "metadata": {},
   "source": [
    "# Country Comparisons\n",
    "from factbook"
   ]
  },
  {
   "cell_type": "markdown",
   "metadata": {},
   "source": [
    "## Conection to DATABASE"
   ]
  },
  {
   "cell_type": "code",
   "execution_count": 11,
   "metadata": {},
   "outputs": [],
   "source": [
    "%%capture\n",
    "%load_ext sql\n",
    "%sql sqlite:///factbook.db"
   ]
  },
  {
   "cell_type": "markdown",
   "metadata": {},
   "source": [
    "## Overview of the Data\n"
   ]
  },
  {
   "cell_type": "markdown",
   "metadata": {},
   "source": [
    "What TABLES are in DATABASE"
   ]
  },
  {
   "cell_type": "code",
   "execution_count": 17,
   "metadata": {},
   "outputs": [
    {
     "name": "stdout",
     "output_type": "stream",
     "text": [
      " * sqlite:///factbook.db\n",
      "Done.\n"
     ]
    },
    {
     "data": {
      "text/html": [
       "<table>\n",
       "    <thead>\n",
       "        <tr>\n",
       "            <th>type</th>\n",
       "            <th>name</th>\n",
       "            <th>tbl_name</th>\n",
       "            <th>rootpage</th>\n",
       "            <th>sql</th>\n",
       "        </tr>\n",
       "    </thead>\n",
       "    <tbody>\n",
       "        <tr>\n",
       "            <td>table</td>\n",
       "            <td>sqlite_sequence</td>\n",
       "            <td>sqlite_sequence</td>\n",
       "            <td>3</td>\n",
       "            <td>CREATE TABLE sqlite_sequence(name,seq)</td>\n",
       "        </tr>\n",
       "        <tr>\n",
       "            <td>table</td>\n",
       "            <td>facts</td>\n",
       "            <td>facts</td>\n",
       "            <td>47</td>\n",
       "            <td>CREATE TABLE &quot;facts&quot; (&quot;id&quot; INTEGER PRIMARY KEY AUTOINCREMENT NOT NULL, &quot;code&quot; varchar(255) NOT NULL, &quot;name&quot; varchar(255) NOT NULL, &quot;area&quot; integer, &quot;area_land&quot; integer, &quot;area_water&quot; integer, &quot;population&quot; integer, &quot;population_growth&quot; float, &quot;birth_rate&quot; float, &quot;death_rate&quot; float, &quot;migration_rate&quot; float)</td>\n",
       "        </tr>\n",
       "    </tbody>\n",
       "</table>"
      ],
      "text/plain": [
       "[('table', 'sqlite_sequence', 'sqlite_sequence', 3, 'CREATE TABLE sqlite_sequence(name,seq)'),\n",
       " ('table', 'facts', 'facts', 47, 'CREATE TABLE \"facts\" (\"id\" INTEGER PRIMARY KEY AUTOINCREMENT NOT NULL, \"code\" varchar(255) NOT NULL, \"name\" varchar(255) NOT NULL, \"area\" integer, \"a ... (4 characters truncated) ... land\" integer, \"area_water\" integer, \"population\" integer, \"population_growth\" float, \"birth_rate\" float, \"death_rate\" float, \"migration_rate\" float)')]"
      ]
     },
     "execution_count": 17,
     "metadata": {},
     "output_type": "execute_result"
    }
   ],
   "source": [
    "%%sql\n",
    "SELECT \n",
    "    *\n",
    "FROM \n",
    "    sqlite_master\n",
    "WHERE \n",
    "    type='table';"
   ]
  },
  {
   "cell_type": "markdown",
   "metadata": {},
   "source": [
    "What the data in the facts TABLE look like"
   ]
  },
  {
   "cell_type": "code",
   "execution_count": 18,
   "metadata": {
    "scrolled": true
   },
   "outputs": [
    {
     "name": "stdout",
     "output_type": "stream",
     "text": [
      " * sqlite:///factbook.db\n",
      "Done.\n"
     ]
    },
    {
     "data": {
      "text/html": [
       "<table>\n",
       "    <thead>\n",
       "        <tr>\n",
       "            <th>id</th>\n",
       "            <th>code</th>\n",
       "            <th>name</th>\n",
       "            <th>area</th>\n",
       "            <th>area_land</th>\n",
       "            <th>area_water</th>\n",
       "            <th>population</th>\n",
       "            <th>population_growth</th>\n",
       "            <th>birth_rate</th>\n",
       "            <th>death_rate</th>\n",
       "            <th>migration_rate</th>\n",
       "        </tr>\n",
       "    </thead>\n",
       "    <tbody>\n",
       "        <tr>\n",
       "            <td>1</td>\n",
       "            <td>af</td>\n",
       "            <td>Afghanistan</td>\n",
       "            <td>652230</td>\n",
       "            <td>652230</td>\n",
       "            <td>0</td>\n",
       "            <td>32564342</td>\n",
       "            <td>2.32</td>\n",
       "            <td>38.57</td>\n",
       "            <td>13.89</td>\n",
       "            <td>1.51</td>\n",
       "        </tr>\n",
       "        <tr>\n",
       "            <td>2</td>\n",
       "            <td>al</td>\n",
       "            <td>Albania</td>\n",
       "            <td>28748</td>\n",
       "            <td>27398</td>\n",
       "            <td>1350</td>\n",
       "            <td>3029278</td>\n",
       "            <td>0.3</td>\n",
       "            <td>12.92</td>\n",
       "            <td>6.58</td>\n",
       "            <td>3.3</td>\n",
       "        </tr>\n",
       "        <tr>\n",
       "            <td>3</td>\n",
       "            <td>ag</td>\n",
       "            <td>Algeria</td>\n",
       "            <td>2381741</td>\n",
       "            <td>2381741</td>\n",
       "            <td>0</td>\n",
       "            <td>39542166</td>\n",
       "            <td>1.84</td>\n",
       "            <td>23.67</td>\n",
       "            <td>4.31</td>\n",
       "            <td>0.92</td>\n",
       "        </tr>\n",
       "        <tr>\n",
       "            <td>4</td>\n",
       "            <td>an</td>\n",
       "            <td>Andorra</td>\n",
       "            <td>468</td>\n",
       "            <td>468</td>\n",
       "            <td>0</td>\n",
       "            <td>85580</td>\n",
       "            <td>0.12</td>\n",
       "            <td>8.13</td>\n",
       "            <td>6.96</td>\n",
       "            <td>0.0</td>\n",
       "        </tr>\n",
       "        <tr>\n",
       "            <td>5</td>\n",
       "            <td>ao</td>\n",
       "            <td>Angola</td>\n",
       "            <td>1246700</td>\n",
       "            <td>1246700</td>\n",
       "            <td>0</td>\n",
       "            <td>19625353</td>\n",
       "            <td>2.78</td>\n",
       "            <td>38.78</td>\n",
       "            <td>11.49</td>\n",
       "            <td>0.46</td>\n",
       "        </tr>\n",
       "    </tbody>\n",
       "</table>"
      ],
      "text/plain": [
       "[(1, 'af', 'Afghanistan', 652230, 652230, 0, 32564342, 2.32, 38.57, 13.89, 1.51),\n",
       " (2, 'al', 'Albania', 28748, 27398, 1350, 3029278, 0.3, 12.92, 6.58, 3.3),\n",
       " (3, 'ag', 'Algeria', 2381741, 2381741, 0, 39542166, 1.84, 23.67, 4.31, 0.92),\n",
       " (4, 'an', 'Andorra', 468, 468, 0, 85580, 0.12, 8.13, 6.96, 0.0),\n",
       " (5, 'ao', 'Angola', 1246700, 1246700, 0, 19625353, 2.78, 38.78, 11.49, 0.46)]"
      ]
     },
     "execution_count": 18,
     "metadata": {},
     "output_type": "execute_result"
    }
   ],
   "source": [
    "%%sql \n",
    "SELECT \n",
    "    *\n",
    "FROM \n",
    "    facts\n",
    "LIMIT \n",
    "    5"
   ]
  },
  {
   "cell_type": "markdown",
   "metadata": {},
   "source": [
    "Descriptions for some of the columns:\n",
    "\n",
    "- name — the name of the country.\n",
    "\n",
    "- area— the country's total area (both land and water).\n",
    "\n",
    "- area_land — the country's land area in square kilometers.\n",
    "\n",
    "- area_water — the country's waterarea in square kilometers.\n",
    "\n",
    "- population — the country's population.\n",
    "\n",
    "- population_growth— the country's population growth as a percentage.\n",
    "\n",
    "- birth_rate — the country's birth rate, or the number of births per year per 1,000 people.\n",
    "\n",
    "- death_rate — the country's death rate, or the number of death per year per 1,000 people."
   ]
  },
  {
   "cell_type": "markdown",
   "metadata": {},
   "source": [
    "# Summary statistics"
   ]
  },
  {
   "cell_type": "markdown",
   "metadata": {},
   "source": [
    "- Minimum population\n",
    "\n",
    "- Maximum population\n",
    "\n",
    "- Minimum population growth\n",
    "\n",
    "- Maximum population growth"
   ]
  },
  {
   "cell_type": "code",
   "execution_count": 20,
   "metadata": {},
   "outputs": [
    {
     "name": "stdout",
     "output_type": "stream",
     "text": [
      " * sqlite:///factbook.db\n",
      "Done.\n"
     ]
    },
    {
     "data": {
      "text/html": [
       "<table>\n",
       "    <thead>\n",
       "        <tr>\n",
       "            <th>min_pop</th>\n",
       "            <th>max_pop</th>\n",
       "            <th>min_pop_growth</th>\n",
       "            <th>max_pop_growth</th>\n",
       "        </tr>\n",
       "    </thead>\n",
       "    <tbody>\n",
       "        <tr>\n",
       "            <td>0</td>\n",
       "            <td>7256490011</td>\n",
       "            <td>0.0</td>\n",
       "            <td>4.02</td>\n",
       "        </tr>\n",
       "    </tbody>\n",
       "</table>"
      ],
      "text/plain": [
       "[(0, 7256490011, 0.0, 4.02)]"
      ]
     },
     "execution_count": 20,
     "metadata": {},
     "output_type": "execute_result"
    }
   ],
   "source": [
    "%%sql\n",
    "\n",
    "SELECT\n",
    "    MIN(population) AS min_pop\n",
    "    ,MAX(population) AS max_pop\n",
    "    ,MIN(population_growth) AS min_pop_growth\n",
    "    ,MAX(population_growth) AS max_pop_growth\n",
    "FROM\n",
    "    facts;"
   ]
  },
  {
   "cell_type": "markdown",
   "metadata": {},
   "source": [
    "Countries with minimum population"
   ]
  },
  {
   "cell_type": "code",
   "execution_count": 32,
   "metadata": {},
   "outputs": [
    {
     "name": "stdout",
     "output_type": "stream",
     "text": [
      " * sqlite:///factbook.db\n",
      "Done.\n"
     ]
    },
    {
     "data": {
      "text/html": [
       "<table>\n",
       "    <thead>\n",
       "        <tr>\n",
       "            <th>id</th>\n",
       "            <th>code</th>\n",
       "            <th>name</th>\n",
       "            <th>area</th>\n",
       "            <th>area_land</th>\n",
       "            <th>area_water</th>\n",
       "            <th>population</th>\n",
       "            <th>population_growth</th>\n",
       "            <th>birth_rate</th>\n",
       "            <th>death_rate</th>\n",
       "            <th>migration_rate</th>\n",
       "        </tr>\n",
       "    </thead>\n",
       "    <tbody>\n",
       "        <tr>\n",
       "            <td>250</td>\n",
       "            <td>ay</td>\n",
       "            <td>Antarctica</td>\n",
       "            <td>None</td>\n",
       "            <td>280000</td>\n",
       "            <td>None</td>\n",
       "            <td>0</td>\n",
       "            <td>None</td>\n",
       "            <td>None</td>\n",
       "            <td>None</td>\n",
       "            <td>None</td>\n",
       "        </tr>\n",
       "    </tbody>\n",
       "</table>"
      ],
      "text/plain": [
       "[(250, 'ay', 'Antarctica', None, 280000, None, 0, None, None, None, None)]"
      ]
     },
     "execution_count": 32,
     "metadata": {},
     "output_type": "execute_result"
    }
   ],
   "source": [
    "%%sql \n",
    "\n",
    "SELECT\n",
    "    *\n",
    "FROM\n",
    "    facts\n",
    "WHERE population == (SELECT\n",
    "                        MIN(population)\n",
    "                    FROM\n",
    "                        facts\n",
    "                    );"
   ]
  },
  {
   "cell_type": "markdown",
   "metadata": {},
   "source": [
    "Countries with maximum population"
   ]
  },
  {
   "cell_type": "code",
   "execution_count": 33,
   "metadata": {},
   "outputs": [
    {
     "name": "stdout",
     "output_type": "stream",
     "text": [
      " * sqlite:///factbook.db\n",
      "Done.\n"
     ]
    },
    {
     "data": {
      "text/html": [
       "<table>\n",
       "    <thead>\n",
       "        <tr>\n",
       "            <th>id</th>\n",
       "            <th>code</th>\n",
       "            <th>name</th>\n",
       "            <th>area</th>\n",
       "            <th>area_land</th>\n",
       "            <th>area_water</th>\n",
       "            <th>population</th>\n",
       "            <th>population_growth</th>\n",
       "            <th>birth_rate</th>\n",
       "            <th>death_rate</th>\n",
       "            <th>migration_rate</th>\n",
       "        </tr>\n",
       "    </thead>\n",
       "    <tbody>\n",
       "        <tr>\n",
       "            <td>261</td>\n",
       "            <td>xx</td>\n",
       "            <td>World</td>\n",
       "            <td>None</td>\n",
       "            <td>None</td>\n",
       "            <td>None</td>\n",
       "            <td>7256490011</td>\n",
       "            <td>1.08</td>\n",
       "            <td>18.6</td>\n",
       "            <td>7.8</td>\n",
       "            <td>None</td>\n",
       "        </tr>\n",
       "    </tbody>\n",
       "</table>"
      ],
      "text/plain": [
       "[(261, 'xx', 'World', None, None, None, 7256490011, 1.08, 18.6, 7.8, None)]"
      ]
     },
     "execution_count": 33,
     "metadata": {},
     "output_type": "execute_result"
    }
   ],
   "source": [
    "%%sql \n",
    "\n",
    "SELECT\n",
    "    *\n",
    "FROM\n",
    "    facts\n",
    "WHERE population == (SELECT\n",
    "                        MAX(population)\n",
    "                    FROM\n",
    "                        facts\n",
    "                    );"
   ]
  },
  {
   "cell_type": "markdown",
   "metadata": {},
   "source": [
    "Without World and Antarctica:\n",
    "\n",
    "- Minimum population\n",
    "\n",
    "- Maximum population\n",
    "\n",
    "- Minimum population growth\n",
    "\n",
    "- Maximum population growth\n",
    "\n"
   ]
  },
  {
   "cell_type": "code",
   "execution_count": 39,
   "metadata": {},
   "outputs": [
    {
     "name": "stdout",
     "output_type": "stream",
     "text": [
      " * sqlite:///factbook.db\n",
      "Done.\n"
     ]
    },
    {
     "data": {
      "text/html": [
       "<table>\n",
       "    <thead>\n",
       "        <tr>\n",
       "            <th>min_pop</th>\n",
       "            <th>max_pop</th>\n",
       "            <th>min_pop_growth</th>\n",
       "            <th>max_pop_growth</th>\n",
       "        </tr>\n",
       "    </thead>\n",
       "    <tbody>\n",
       "        <tr>\n",
       "            <td>48</td>\n",
       "            <td>1367485388</td>\n",
       "            <td>0.0</td>\n",
       "            <td>4.02</td>\n",
       "        </tr>\n",
       "    </tbody>\n",
       "</table>"
      ],
      "text/plain": [
       "[(48, 1367485388, 0.0, 4.02)]"
      ]
     },
     "execution_count": 39,
     "metadata": {},
     "output_type": "execute_result"
    }
   ],
   "source": [
    "%%sql\n",
    "\n",
    "SELECT\n",
    "    MIN(population) AS min_pop\n",
    "    ,MAX(population) AS max_pop\n",
    "    ,MIN(population_growth) AS min_pop_growth\n",
    "    ,MAX(population_growth) AS max_pop_growth\n",
    "FROM\n",
    "    facts\n",
    "WHERE \n",
    "    name NOT IN ('World', 'Antarctica');"
   ]
  },
  {
   "cell_type": "markdown",
   "metadata": {},
   "source": [
    "AVG average value for:\n",
    "\n",
    "- population\n",
    "    \n",
    "- area"
   ]
  },
  {
   "cell_type": "code",
   "execution_count": 42,
   "metadata": {},
   "outputs": [
    {
     "name": "stdout",
     "output_type": "stream",
     "text": [
      " * sqlite:///factbook.db\n",
      "Done.\n"
     ]
    },
    {
     "data": {
      "text/html": [
       "<table>\n",
       "    <thead>\n",
       "        <tr>\n",
       "            <th>avg_population</th>\n",
       "            <th>avg_area</th>\n",
       "        </tr>\n",
       "    </thead>\n",
       "    <tbody>\n",
       "        <tr>\n",
       "            <td>32377011.013</td>\n",
       "            <td>555093.546</td>\n",
       "        </tr>\n",
       "    </tbody>\n",
       "</table>"
      ],
      "text/plain": [
       "[(32377011.013, 555093.546)]"
      ]
     },
     "execution_count": 42,
     "metadata": {},
     "output_type": "execute_result"
    }
   ],
   "source": [
    "%%sql\n",
    "\n",
    "SELECT\n",
    "    ROUND(AVG(population),3) AS avg_population\n",
    "    ,ROUND(AVG(area),3) AS avg_area\n",
    "FROM\n",
    "    facts\n",
    "WHERE \n",
    "    name NOT IN ('World', 'Antarctica');"
   ]
  },
  {
   "cell_type": "markdown",
   "metadata": {},
   "source": [
    "Countries with population above average.\n",
    "\n",
    "Countries with area below average."
   ]
  },
  {
   "cell_type": "code",
   "execution_count": 43,
   "metadata": {},
   "outputs": [
    {
     "name": "stdout",
     "output_type": "stream",
     "text": [
      " * sqlite:///factbook.db\n",
      "Done.\n"
     ]
    },
    {
     "data": {
      "text/html": [
       "<table>\n",
       "    <thead>\n",
       "        <tr>\n",
       "            <th>id</th>\n",
       "            <th>code</th>\n",
       "            <th>name</th>\n",
       "            <th>area</th>\n",
       "            <th>area_land</th>\n",
       "            <th>area_water</th>\n",
       "            <th>population</th>\n",
       "            <th>population_growth</th>\n",
       "            <th>birth_rate</th>\n",
       "            <th>death_rate</th>\n",
       "            <th>migration_rate</th>\n",
       "        </tr>\n",
       "    </thead>\n",
       "    <tbody>\n",
       "        <tr>\n",
       "            <td>14</td>\n",
       "            <td>bg</td>\n",
       "            <td>Bangladesh</td>\n",
       "            <td>148460</td>\n",
       "            <td>130170</td>\n",
       "            <td>18290</td>\n",
       "            <td>168957745</td>\n",
       "            <td>1.6</td>\n",
       "            <td>21.14</td>\n",
       "            <td>5.61</td>\n",
       "            <td>0.46</td>\n",
       "        </tr>\n",
       "        <tr>\n",
       "            <td>65</td>\n",
       "            <td>gm</td>\n",
       "            <td>Germany</td>\n",
       "            <td>357022</td>\n",
       "            <td>348672</td>\n",
       "            <td>8350</td>\n",
       "            <td>80854408</td>\n",
       "            <td>0.17</td>\n",
       "            <td>8.47</td>\n",
       "            <td>11.42</td>\n",
       "            <td>1.24</td>\n",
       "        </tr>\n",
       "        <tr>\n",
       "            <td>80</td>\n",
       "            <td>iz</td>\n",
       "            <td>Iraq</td>\n",
       "            <td>438317</td>\n",
       "            <td>437367</td>\n",
       "            <td>950</td>\n",
       "            <td>37056169</td>\n",
       "            <td>2.93</td>\n",
       "            <td>31.45</td>\n",
       "            <td>3.77</td>\n",
       "            <td>1.62</td>\n",
       "        </tr>\n",
       "        <tr>\n",
       "            <td>83</td>\n",
       "            <td>it</td>\n",
       "            <td>Italy</td>\n",
       "            <td>301340</td>\n",
       "            <td>294140</td>\n",
       "            <td>7200</td>\n",
       "            <td>61855120</td>\n",
       "            <td>0.27</td>\n",
       "            <td>8.74</td>\n",
       "            <td>10.19</td>\n",
       "            <td>4.1</td>\n",
       "        </tr>\n",
       "        <tr>\n",
       "            <td>85</td>\n",
       "            <td>ja</td>\n",
       "            <td>Japan</td>\n",
       "            <td>377915</td>\n",
       "            <td>364485</td>\n",
       "            <td>13430</td>\n",
       "            <td>126919659</td>\n",
       "            <td>0.16</td>\n",
       "            <td>7.93</td>\n",
       "            <td>9.51</td>\n",
       "            <td>0.0</td>\n",
       "        </tr>\n",
       "        <tr>\n",
       "            <td>91</td>\n",
       "            <td>ks</td>\n",
       "            <td>Korea, South</td>\n",
       "            <td>99720</td>\n",
       "            <td>96920</td>\n",
       "            <td>2800</td>\n",
       "            <td>49115196</td>\n",
       "            <td>0.14</td>\n",
       "            <td>8.19</td>\n",
       "            <td>6.75</td>\n",
       "            <td>0.0</td>\n",
       "        </tr>\n",
       "        <tr>\n",
       "            <td>120</td>\n",
       "            <td>mo</td>\n",
       "            <td>Morocco</td>\n",
       "            <td>446550</td>\n",
       "            <td>446300</td>\n",
       "            <td>250</td>\n",
       "            <td>33322699</td>\n",
       "            <td>1.0</td>\n",
       "            <td>18.2</td>\n",
       "            <td>4.81</td>\n",
       "            <td>3.36</td>\n",
       "        </tr>\n",
       "        <tr>\n",
       "            <td>138</td>\n",
       "            <td>rp</td>\n",
       "            <td>Philippines</td>\n",
       "            <td>300000</td>\n",
       "            <td>298170</td>\n",
       "            <td>1830</td>\n",
       "            <td>100998376</td>\n",
       "            <td>1.61</td>\n",
       "            <td>24.27</td>\n",
       "            <td>6.11</td>\n",
       "            <td>2.09</td>\n",
       "        </tr>\n",
       "        <tr>\n",
       "            <td>139</td>\n",
       "            <td>pl</td>\n",
       "            <td>Poland</td>\n",
       "            <td>312685</td>\n",
       "            <td>304255</td>\n",
       "            <td>8430</td>\n",
       "            <td>38562189</td>\n",
       "            <td>0.09</td>\n",
       "            <td>9.74</td>\n",
       "            <td>10.19</td>\n",
       "            <td>0.46</td>\n",
       "        </tr>\n",
       "        <tr>\n",
       "            <td>163</td>\n",
       "            <td>sp</td>\n",
       "            <td>Spain</td>\n",
       "            <td>505370</td>\n",
       "            <td>498980</td>\n",
       "            <td>6390</td>\n",
       "            <td>48146134</td>\n",
       "            <td>0.89</td>\n",
       "            <td>9.64</td>\n",
       "            <td>9.04</td>\n",
       "            <td>8.31</td>\n",
       "        </tr>\n",
       "        <tr>\n",
       "            <td>173</td>\n",
       "            <td>th</td>\n",
       "            <td>Thailand</td>\n",
       "            <td>513120</td>\n",
       "            <td>510890</td>\n",
       "            <td>2230</td>\n",
       "            <td>67976405</td>\n",
       "            <td>0.34</td>\n",
       "            <td>11.19</td>\n",
       "            <td>7.8</td>\n",
       "            <td>0.0</td>\n",
       "        </tr>\n",
       "        <tr>\n",
       "            <td>182</td>\n",
       "            <td>ug</td>\n",
       "            <td>Uganda</td>\n",
       "            <td>241038</td>\n",
       "            <td>197100</td>\n",
       "            <td>43938</td>\n",
       "            <td>37101745</td>\n",
       "            <td>3.24</td>\n",
       "            <td>43.79</td>\n",
       "            <td>10.69</td>\n",
       "            <td>0.74</td>\n",
       "        </tr>\n",
       "        <tr>\n",
       "            <td>185</td>\n",
       "            <td>uk</td>\n",
       "            <td>United Kingdom</td>\n",
       "            <td>243610</td>\n",
       "            <td>241930</td>\n",
       "            <td>1680</td>\n",
       "            <td>64088222</td>\n",
       "            <td>0.54</td>\n",
       "            <td>12.17</td>\n",
       "            <td>9.35</td>\n",
       "            <td>2.54</td>\n",
       "        </tr>\n",
       "        <tr>\n",
       "            <td>192</td>\n",
       "            <td>vm</td>\n",
       "            <td>Vietnam</td>\n",
       "            <td>331210</td>\n",
       "            <td>310070</td>\n",
       "            <td>21140</td>\n",
       "            <td>94348835</td>\n",
       "            <td>0.97</td>\n",
       "            <td>15.96</td>\n",
       "            <td>5.93</td>\n",
       "            <td>0.3</td>\n",
       "        </tr>\n",
       "    </tbody>\n",
       "</table>"
      ],
      "text/plain": [
       "[(14, 'bg', 'Bangladesh', 148460, 130170, 18290, 168957745, 1.6, 21.14, 5.61, 0.46),\n",
       " (65, 'gm', 'Germany', 357022, 348672, 8350, 80854408, 0.17, 8.47, 11.42, 1.24),\n",
       " (80, 'iz', 'Iraq', 438317, 437367, 950, 37056169, 2.93, 31.45, 3.77, 1.62),\n",
       " (83, 'it', 'Italy', 301340, 294140, 7200, 61855120, 0.27, 8.74, 10.19, 4.1),\n",
       " (85, 'ja', 'Japan', 377915, 364485, 13430, 126919659, 0.16, 7.93, 9.51, 0.0),\n",
       " (91, 'ks', 'Korea, South', 99720, 96920, 2800, 49115196, 0.14, 8.19, 6.75, 0.0),\n",
       " (120, 'mo', 'Morocco', 446550, 446300, 250, 33322699, 1.0, 18.2, 4.81, 3.36),\n",
       " (138, 'rp', 'Philippines', 300000, 298170, 1830, 100998376, 1.61, 24.27, 6.11, 2.09),\n",
       " (139, 'pl', 'Poland', 312685, 304255, 8430, 38562189, 0.09, 9.74, 10.19, 0.46),\n",
       " (163, 'sp', 'Spain', 505370, 498980, 6390, 48146134, 0.89, 9.64, 9.04, 8.31),\n",
       " (173, 'th', 'Thailand', 513120, 510890, 2230, 67976405, 0.34, 11.19, 7.8, 0.0),\n",
       " (182, 'ug', 'Uganda', 241038, 197100, 43938, 37101745, 3.24, 43.79, 10.69, 0.74),\n",
       " (185, 'uk', 'United Kingdom', 243610, 241930, 1680, 64088222, 0.54, 12.17, 9.35, 2.54),\n",
       " (192, 'vm', 'Vietnam', 331210, 310070, 21140, 94348835, 0.97, 15.96, 5.93, 0.3)]"
      ]
     },
     "execution_count": 43,
     "metadata": {},
     "output_type": "execute_result"
    }
   ],
   "source": [
    "%%sql\n",
    "\n",
    "SELECT\n",
    "    *\n",
    "FROM\n",
    "    facts\n",
    "WHERE \n",
    "    population > (\n",
    "                    SELECT\n",
    "                        AVG(population)\n",
    "                    FROM\n",
    "                        facts\n",
    "                    WHERE \n",
    "                        name NOT IN ('World', 'Antarctica')\n",
    "                )\n",
    "AND\n",
    "    area < (\n",
    "                    SELECT\n",
    "                        AVG(area)\n",
    "                    FROM\n",
    "                        facts\n",
    "                    WHERE \n",
    "                        name NOT IN ('World', 'Antarctica')\n",
    "                );"
   ]
  },
  {
   "cell_type": "markdown",
   "metadata": {},
   "source": [
    "Which country has the most people?"
   ]
  },
  {
   "cell_type": "code",
   "execution_count": 45,
   "metadata": {},
   "outputs": [
    {
     "name": "stdout",
     "output_type": "stream",
     "text": [
      " * sqlite:///factbook.db\n",
      "Done.\n"
     ]
    },
    {
     "data": {
      "text/html": [
       "<table>\n",
       "    <thead>\n",
       "        <tr>\n",
       "            <th>name</th>\n",
       "            <th>max_pop</th>\n",
       "        </tr>\n",
       "    </thead>\n",
       "    <tbody>\n",
       "        <tr>\n",
       "            <td>China</td>\n",
       "            <td>1367485388</td>\n",
       "        </tr>\n",
       "    </tbody>\n",
       "</table>"
      ],
      "text/plain": [
       "[('China', 1367485388)]"
      ]
     },
     "execution_count": 45,
     "metadata": {},
     "output_type": "execute_result"
    }
   ],
   "source": [
    "%%sql\n",
    "\n",
    "SELECT\n",
    "    name\n",
    "    ,MAX(population) AS max_pop\n",
    "FROM\n",
    "    facts\n",
    "WHERE \n",
    "    name <> 'World';"
   ]
  },
  {
   "cell_type": "markdown",
   "metadata": {},
   "source": [
    "Which country has the highest growth rate?"
   ]
  },
  {
   "cell_type": "code",
   "execution_count": 46,
   "metadata": {},
   "outputs": [
    {
     "name": "stdout",
     "output_type": "stream",
     "text": [
      " * sqlite:///factbook.db\n",
      "Done.\n"
     ]
    },
    {
     "data": {
      "text/html": [
       "<table>\n",
       "    <thead>\n",
       "        <tr>\n",
       "            <th>name</th>\n",
       "            <th>max_pop_growth</th>\n",
       "        </tr>\n",
       "    </thead>\n",
       "    <tbody>\n",
       "        <tr>\n",
       "            <td>South Sudan</td>\n",
       "            <td>4.02</td>\n",
       "        </tr>\n",
       "    </tbody>\n",
       "</table>"
      ],
      "text/plain": [
       "[('South Sudan', 4.02)]"
      ]
     },
     "execution_count": 46,
     "metadata": {},
     "output_type": "execute_result"
    }
   ],
   "source": [
    "%%sql\n",
    "\n",
    "SELECT\n",
    "    name\n",
    "    ,MAX(population_growth) AS max_pop_growth\n",
    "FROM\n",
    "    facts\n",
    "WHERE \n",
    "    name <> 'World';"
   ]
  },
  {
   "cell_type": "markdown",
   "metadata": {},
   "source": [
    "Which countries have the highest ratios of water to land?"
   ]
  },
  {
   "cell_type": "code",
   "execution_count": 61,
   "metadata": {
    "scrolled": false
   },
   "outputs": [
    {
     "name": "stdout",
     "output_type": "stream",
     "text": [
      " * sqlite:///factbook.db\n",
      "Done.\n"
     ]
    },
    {
     "data": {
      "text/html": [
       "<table>\n",
       "    <thead>\n",
       "        <tr>\n",
       "            <th>id</th>\n",
       "            <th>code</th>\n",
       "            <th>name</th>\n",
       "            <th>area</th>\n",
       "            <th>area_land</th>\n",
       "            <th>area_water</th>\n",
       "            <th>population</th>\n",
       "            <th>population_growth</th>\n",
       "            <th>birth_rate</th>\n",
       "            <th>death_rate</th>\n",
       "            <th>migration_rate</th>\n",
       "            <th>ratio_water_land</th>\n",
       "        </tr>\n",
       "    </thead>\n",
       "    <tbody>\n",
       "        <tr>\n",
       "            <td>228</td>\n",
       "            <td>io</td>\n",
       "            <td>British Indian Ocean Territory</td>\n",
       "            <td>54400</td>\n",
       "            <td>60</td>\n",
       "            <td>54340</td>\n",
       "            <td>None</td>\n",
       "            <td>None</td>\n",
       "            <td>None</td>\n",
       "            <td>None</td>\n",
       "            <td>None</td>\n",
       "            <td>905.6666666666666</td>\n",
       "        </tr>\n",
       "        <tr>\n",
       "            <td>247</td>\n",
       "            <td>vq</td>\n",
       "            <td>Virgin Islands</td>\n",
       "            <td>1910</td>\n",
       "            <td>346</td>\n",
       "            <td>1564</td>\n",
       "            <td>103574</td>\n",
       "            <td>0.59</td>\n",
       "            <td>10.31</td>\n",
       "            <td>8.54</td>\n",
       "            <td>7.67</td>\n",
       "            <td>4.520231213872832</td>\n",
       "        </tr>\n",
       "        <tr>\n",
       "            <td>246</td>\n",
       "            <td>rq</td>\n",
       "            <td>Puerto Rico</td>\n",
       "            <td>13791</td>\n",
       "            <td>8870</td>\n",
       "            <td>4921</td>\n",
       "            <td>3598357</td>\n",
       "            <td>0.6</td>\n",
       "            <td>10.86</td>\n",
       "            <td>8.67</td>\n",
       "            <td>8.15</td>\n",
       "            <td>0.5547914317925592</td>\n",
       "        </tr>\n",
       "        <tr>\n",
       "            <td>12</td>\n",
       "            <td>bf</td>\n",
       "            <td>Bahamas, The</td>\n",
       "            <td>13880</td>\n",
       "            <td>10010</td>\n",
       "            <td>3870</td>\n",
       "            <td>324597</td>\n",
       "            <td>0.85</td>\n",
       "            <td>15.5</td>\n",
       "            <td>7.05</td>\n",
       "            <td>0.0</td>\n",
       "            <td>0.3866133866133866</td>\n",
       "        </tr>\n",
       "        <tr>\n",
       "            <td>71</td>\n",
       "            <td>pu</td>\n",
       "            <td>Guinea-Bissau</td>\n",
       "            <td>36125</td>\n",
       "            <td>28120</td>\n",
       "            <td>8005</td>\n",
       "            <td>1726170</td>\n",
       "            <td>1.91</td>\n",
       "            <td>33.38</td>\n",
       "            <td>14.33</td>\n",
       "            <td>0.0</td>\n",
       "            <td>0.2846728307254623</td>\n",
       "        </tr>\n",
       "        <tr>\n",
       "            <td>106</td>\n",
       "            <td>mi</td>\n",
       "            <td>Malawi</td>\n",
       "            <td>118484</td>\n",
       "            <td>94080</td>\n",
       "            <td>24404</td>\n",
       "            <td>17964697</td>\n",
       "            <td>3.32</td>\n",
       "            <td>41.56</td>\n",
       "            <td>8.41</td>\n",
       "            <td>0.0</td>\n",
       "            <td>0.25939625850340137</td>\n",
       "        </tr>\n",
       "        <tr>\n",
       "            <td>125</td>\n",
       "            <td>nl</td>\n",
       "            <td>Netherlands</td>\n",
       "            <td>41543</td>\n",
       "            <td>33893</td>\n",
       "            <td>7650</td>\n",
       "            <td>16947904</td>\n",
       "            <td>0.41</td>\n",
       "            <td>10.83</td>\n",
       "            <td>8.66</td>\n",
       "            <td>1.95</td>\n",
       "            <td>0.22571032366565366</td>\n",
       "        </tr>\n",
       "        <tr>\n",
       "            <td>182</td>\n",
       "            <td>ug</td>\n",
       "            <td>Uganda</td>\n",
       "            <td>241038</td>\n",
       "            <td>197100</td>\n",
       "            <td>43938</td>\n",
       "            <td>37101745</td>\n",
       "            <td>3.24</td>\n",
       "            <td>43.79</td>\n",
       "            <td>10.69</td>\n",
       "            <td>0.74</td>\n",
       "            <td>0.22292237442922375</td>\n",
       "        </tr>\n",
       "        <tr>\n",
       "            <td>56</td>\n",
       "            <td>er</td>\n",
       "            <td>Eritrea</td>\n",
       "            <td>117600</td>\n",
       "            <td>101000</td>\n",
       "            <td>16600</td>\n",
       "            <td>6527689</td>\n",
       "            <td>2.25</td>\n",
       "            <td>30.0</td>\n",
       "            <td>7.52</td>\n",
       "            <td>0.0</td>\n",
       "            <td>0.16435643564356436</td>\n",
       "        </tr>\n",
       "        <tr>\n",
       "            <td>99</td>\n",
       "            <td>li</td>\n",
       "            <td>Liberia</td>\n",
       "            <td>111369</td>\n",
       "            <td>96320</td>\n",
       "            <td>15049</td>\n",
       "            <td>4195666</td>\n",
       "            <td>2.47</td>\n",
       "            <td>34.41</td>\n",
       "            <td>9.69</td>\n",
       "            <td>0.0</td>\n",
       "            <td>0.15623961794019933</td>\n",
       "        </tr>\n",
       "    </tbody>\n",
       "</table>"
      ],
      "text/plain": [
       "[(228, 'io', 'British Indian Ocean Territory', 54400, 60, 54340, None, None, None, None, None, 905.6666666666666),\n",
       " (247, 'vq', 'Virgin Islands', 1910, 346, 1564, 103574, 0.59, 10.31, 8.54, 7.67, 4.520231213872832),\n",
       " (246, 'rq', 'Puerto Rico', 13791, 8870, 4921, 3598357, 0.6, 10.86, 8.67, 8.15, 0.5547914317925592),\n",
       " (12, 'bf', 'Bahamas, The', 13880, 10010, 3870, 324597, 0.85, 15.5, 7.05, 0.0, 0.3866133866133866),\n",
       " (71, 'pu', 'Guinea-Bissau', 36125, 28120, 8005, 1726170, 1.91, 33.38, 14.33, 0.0, 0.2846728307254623),\n",
       " (106, 'mi', 'Malawi', 118484, 94080, 24404, 17964697, 3.32, 41.56, 8.41, 0.0, 0.25939625850340137),\n",
       " (125, 'nl', 'Netherlands', 41543, 33893, 7650, 16947904, 0.41, 10.83, 8.66, 1.95, 0.22571032366565366),\n",
       " (182, 'ug', 'Uganda', 241038, 197100, 43938, 37101745, 3.24, 43.79, 10.69, 0.74, 0.22292237442922375),\n",
       " (56, 'er', 'Eritrea', 117600, 101000, 16600, 6527689, 2.25, 30.0, 7.52, 0.0, 0.16435643564356436),\n",
       " (99, 'li', 'Liberia', 111369, 96320, 15049, 4195666, 2.47, 34.41, 9.69, 0.0, 0.15623961794019933)]"
      ]
     },
     "execution_count": 61,
     "metadata": {},
     "output_type": "execute_result"
    }
   ],
   "source": [
    "%%sql\n",
    "\n",
    "SELECT\n",
    "    *\n",
    "    ,CAST(area_water AS Float) / area_land AS ratio_water_land\n",
    "FROM\n",
    "    facts\n",
    "ORDER BY\n",
    "    ratio_water_land DESC\n",
    "LIMIT\n",
    "    10;"
   ]
  },
  {
   "cell_type": "markdown",
   "metadata": {},
   "source": [
    "Which countries have more water than land?"
   ]
  },
  {
   "cell_type": "code",
   "execution_count": 62,
   "metadata": {},
   "outputs": [
    {
     "name": "stdout",
     "output_type": "stream",
     "text": [
      " * sqlite:///factbook.db\n",
      "Done.\n"
     ]
    },
    {
     "data": {
      "text/html": [
       "<table>\n",
       "    <thead>\n",
       "        <tr>\n",
       "            <th>id</th>\n",
       "            <th>code</th>\n",
       "            <th>name</th>\n",
       "            <th>area</th>\n",
       "            <th>area_land</th>\n",
       "            <th>area_water</th>\n",
       "            <th>population</th>\n",
       "            <th>population_growth</th>\n",
       "            <th>birth_rate</th>\n",
       "            <th>death_rate</th>\n",
       "            <th>migration_rate</th>\n",
       "        </tr>\n",
       "    </thead>\n",
       "    <tbody>\n",
       "        <tr>\n",
       "            <td>228</td>\n",
       "            <td>io</td>\n",
       "            <td>British Indian Ocean Territory</td>\n",
       "            <td>54400</td>\n",
       "            <td>60</td>\n",
       "            <td>54340</td>\n",
       "            <td>None</td>\n",
       "            <td>None</td>\n",
       "            <td>None</td>\n",
       "            <td>None</td>\n",
       "            <td>None</td>\n",
       "        </tr>\n",
       "        <tr>\n",
       "            <td>247</td>\n",
       "            <td>vq</td>\n",
       "            <td>Virgin Islands</td>\n",
       "            <td>1910</td>\n",
       "            <td>346</td>\n",
       "            <td>1564</td>\n",
       "            <td>103574</td>\n",
       "            <td>0.59</td>\n",
       "            <td>10.31</td>\n",
       "            <td>8.54</td>\n",
       "            <td>7.67</td>\n",
       "        </tr>\n",
       "    </tbody>\n",
       "</table>"
      ],
      "text/plain": [
       "[(228, 'io', 'British Indian Ocean Territory', 54400, 60, 54340, None, None, None, None, None),\n",
       " (247, 'vq', 'Virgin Islands', 1910, 346, 1564, 103574, 0.59, 10.31, 8.54, 7.67)]"
      ]
     },
     "execution_count": 62,
     "metadata": {},
     "output_type": "execute_result"
    }
   ],
   "source": [
    "%%sql\n",
    "\n",
    "SELECT\n",
    "    *\n",
    "FROM\n",
    "    facts\n",
    "WHERE\n",
    "    area_water > area_land;"
   ]
  },
  {
   "cell_type": "markdown",
   "metadata": {},
   "source": [
    "Which countries will add the most people to their populations next year?"
   ]
  },
  {
   "cell_type": "code",
   "execution_count": 66,
   "metadata": {
    "scrolled": false
   },
   "outputs": [
    {
     "name": "stdout",
     "output_type": "stream",
     "text": [
      " * sqlite:///factbook.db\n",
      "Done.\n"
     ]
    },
    {
     "data": {
      "text/html": [
       "<table>\n",
       "    <thead>\n",
       "        <tr>\n",
       "            <th>id</th>\n",
       "            <th>code</th>\n",
       "            <th>name</th>\n",
       "            <th>area</th>\n",
       "            <th>area_land</th>\n",
       "            <th>area_water</th>\n",
       "            <th>population</th>\n",
       "            <th>population_growth</th>\n",
       "            <th>birth_rate</th>\n",
       "            <th>death_rate</th>\n",
       "            <th>migration_rate</th>\n",
       "            <th>add_people</th>\n",
       "        </tr>\n",
       "    </thead>\n",
       "    <tbody>\n",
       "        <tr>\n",
       "            <td>261</td>\n",
       "            <td>xx</td>\n",
       "            <td>World</td>\n",
       "            <td>None</td>\n",
       "            <td>None</td>\n",
       "            <td>None</td>\n",
       "            <td>7256490011</td>\n",
       "            <td>1.08</td>\n",
       "            <td>18.6</td>\n",
       "            <td>7.8</td>\n",
       "            <td>None</td>\n",
       "            <td>134970714.2046</td>\n",
       "        </tr>\n",
       "        <tr>\n",
       "            <td>77</td>\n",
       "            <td>in</td>\n",
       "            <td>India</td>\n",
       "            <td>3287263</td>\n",
       "            <td>2973193</td>\n",
       "            <td>314070</td>\n",
       "            <td>1251695584</td>\n",
       "            <td>1.22</td>\n",
       "            <td>19.55</td>\n",
       "            <td>7.32</td>\n",
       "            <td>0.04</td>\n",
       "            <td>24470648.6672</td>\n",
       "        </tr>\n",
       "        <tr>\n",
       "            <td>37</td>\n",
       "            <td>ch</td>\n",
       "            <td>China</td>\n",
       "            <td>9596960</td>\n",
       "            <td>9326410</td>\n",
       "            <td>270550</td>\n",
       "            <td>1367485388</td>\n",
       "            <td>0.45</td>\n",
       "            <td>12.49</td>\n",
       "            <td>7.53</td>\n",
       "            <td>0.44</td>\n",
       "            <td>17079892.496120002</td>\n",
       "        </tr>\n",
       "        <tr>\n",
       "            <td>129</td>\n",
       "            <td>ni</td>\n",
       "            <td>Nigeria</td>\n",
       "            <td>923768</td>\n",
       "            <td>910768</td>\n",
       "            <td>13000</td>\n",
       "            <td>181562056</td>\n",
       "            <td>2.45</td>\n",
       "            <td>37.64</td>\n",
       "            <td>12.9</td>\n",
       "            <td>0.22</td>\n",
       "            <td>6833995.78784</td>\n",
       "        </tr>\n",
       "        <tr>\n",
       "            <td>197</td>\n",
       "            <td>ee</td>\n",
       "            <td>European Union</td>\n",
       "            <td>4324782</td>\n",
       "            <td>None</td>\n",
       "            <td>None</td>\n",
       "            <td>513949445</td>\n",
       "            <td>0.25</td>\n",
       "            <td>10.2</td>\n",
       "            <td>10.2</td>\n",
       "            <td>2.5</td>\n",
       "            <td>5242284.339</td>\n",
       "        </tr>\n",
       "        <tr>\n",
       "            <td>132</td>\n",
       "            <td>pk</td>\n",
       "            <td>Pakistan</td>\n",
       "            <td>796095</td>\n",
       "            <td>770875</td>\n",
       "            <td>25220</td>\n",
       "            <td>199085847</td>\n",
       "            <td>1.46</td>\n",
       "            <td>22.58</td>\n",
       "            <td>6.49</td>\n",
       "            <td>1.54</td>\n",
       "            <td>4495358.425259999</td>\n",
       "        </tr>\n",
       "        <tr>\n",
       "            <td>78</td>\n",
       "            <td>id</td>\n",
       "            <td>Indonesia</td>\n",
       "            <td>1904569</td>\n",
       "            <td>1811569</td>\n",
       "            <td>93000</td>\n",
       "            <td>255993674</td>\n",
       "            <td>0.92</td>\n",
       "            <td>16.72</td>\n",
       "            <td>6.37</td>\n",
       "            <td>1.16</td>\n",
       "            <td>4280214.22928</td>\n",
       "        </tr>\n",
       "        <tr>\n",
       "            <td>186</td>\n",
       "            <td>us</td>\n",
       "            <td>United States</td>\n",
       "            <td>9826675</td>\n",
       "            <td>9161966</td>\n",
       "            <td>664709</td>\n",
       "            <td>321368864</td>\n",
       "            <td>0.78</td>\n",
       "            <td>12.49</td>\n",
       "            <td>8.15</td>\n",
       "            <td>3.86</td>\n",
       "            <td>4013897.11136</td>\n",
       "        </tr>\n",
       "        <tr>\n",
       "            <td>58</td>\n",
       "            <td>et</td>\n",
       "            <td>Ethiopia</td>\n",
       "            <td>1104300</td>\n",
       "            <td>None</td>\n",
       "            <td>104300</td>\n",
       "            <td>99465819</td>\n",
       "            <td>2.89</td>\n",
       "            <td>37.27</td>\n",
       "            <td>8.19</td>\n",
       "            <td>0.22</td>\n",
       "            <td>3707091.07413</td>\n",
       "        </tr>\n",
       "        <tr>\n",
       "            <td>14</td>\n",
       "            <td>bg</td>\n",
       "            <td>Bangladesh</td>\n",
       "            <td>148460</td>\n",
       "            <td>130170</td>\n",
       "            <td>18290</td>\n",
       "            <td>168957745</td>\n",
       "            <td>1.6</td>\n",
       "            <td>21.14</td>\n",
       "            <td>5.61</td>\n",
       "            <td>0.46</td>\n",
       "            <td>3571766.7293000002</td>\n",
       "        </tr>\n",
       "        <tr>\n",
       "            <td>24</td>\n",
       "            <td>br</td>\n",
       "            <td>Brazil</td>\n",
       "            <td>8515770</td>\n",
       "            <td>8358140</td>\n",
       "            <td>157630</td>\n",
       "            <td>204259812</td>\n",
       "            <td>0.77</td>\n",
       "            <td>14.46</td>\n",
       "            <td>6.58</td>\n",
       "            <td>0.14</td>\n",
       "            <td>2953596.88152</td>\n",
       "        </tr>\n",
       "        <tr>\n",
       "            <td>40</td>\n",
       "            <td>cg</td>\n",
       "            <td>Congo, Democratic Republic of the</td>\n",
       "            <td>2344858</td>\n",
       "            <td>2267048</td>\n",
       "            <td>77810</td>\n",
       "            <td>79375136</td>\n",
       "            <td>2.45</td>\n",
       "            <td>34.88</td>\n",
       "            <td>10.07</td>\n",
       "            <td>0.27</td>\n",
       "            <td>2768604.7436800003</td>\n",
       "        </tr>\n",
       "        <tr>\n",
       "            <td>138</td>\n",
       "            <td>rp</td>\n",
       "            <td>Philippines</td>\n",
       "            <td>300000</td>\n",
       "            <td>298170</td>\n",
       "            <td>1830</td>\n",
       "            <td>100998376</td>\n",
       "            <td>1.61</td>\n",
       "            <td>24.27</td>\n",
       "            <td>6.11</td>\n",
       "            <td>2.09</td>\n",
       "            <td>2451230.58552</td>\n",
       "        </tr>\n",
       "        <tr>\n",
       "            <td>114</td>\n",
       "            <td>mx</td>\n",
       "            <td>Mexico</td>\n",
       "            <td>1964375</td>\n",
       "            <td>1943945</td>\n",
       "            <td>20430</td>\n",
       "            <td>121736809</td>\n",
       "            <td>1.18</td>\n",
       "            <td>18.78</td>\n",
       "            <td>5.26</td>\n",
       "            <td>1.68</td>\n",
       "            <td>2286217.27302</td>\n",
       "        </tr>\n",
       "        <tr>\n",
       "            <td>53</td>\n",
       "            <td>eg</td>\n",
       "            <td>Egypt</td>\n",
       "            <td>1001450</td>\n",
       "            <td>995450</td>\n",
       "            <td>6000</td>\n",
       "            <td>88487396</td>\n",
       "            <td>1.79</td>\n",
       "            <td>22.9</td>\n",
       "            <td>4.77</td>\n",
       "            <td>0.19</td>\n",
       "            <td>2026361.3683999998</td>\n",
       "        </tr>\n",
       "    </tbody>\n",
       "</table>"
      ],
      "text/plain": [
       "[(261, 'xx', 'World', None, None, None, 7256490011, 1.08, 18.6, 7.8, None, 134970714.2046),\n",
       " (77, 'in', 'India', 3287263, 2973193, 314070, 1251695584, 1.22, 19.55, 7.32, 0.04, 24470648.6672),\n",
       " (37, 'ch', 'China', 9596960, 9326410, 270550, 1367485388, 0.45, 12.49, 7.53, 0.44, 17079892.496120002),\n",
       " (129, 'ni', 'Nigeria', 923768, 910768, 13000, 181562056, 2.45, 37.64, 12.9, 0.22, 6833995.78784),\n",
       " (197, 'ee', 'European Union', 4324782, None, None, 513949445, 0.25, 10.2, 10.2, 2.5, 5242284.339),\n",
       " (132, 'pk', 'Pakistan', 796095, 770875, 25220, 199085847, 1.46, 22.58, 6.49, 1.54, 4495358.425259999),\n",
       " (78, 'id', 'Indonesia', 1904569, 1811569, 93000, 255993674, 0.92, 16.72, 6.37, 1.16, 4280214.22928),\n",
       " (186, 'us', 'United States', 9826675, 9161966, 664709, 321368864, 0.78, 12.49, 8.15, 3.86, 4013897.11136),\n",
       " (58, 'et', 'Ethiopia', 1104300, None, 104300, 99465819, 2.89, 37.27, 8.19, 0.22, 3707091.07413),\n",
       " (14, 'bg', 'Bangladesh', 148460, 130170, 18290, 168957745, 1.6, 21.14, 5.61, 0.46, 3571766.7293000002),\n",
       " (24, 'br', 'Brazil', 8515770, 8358140, 157630, 204259812, 0.77, 14.46, 6.58, 0.14, 2953596.88152),\n",
       " (40, 'cg', 'Congo, Democratic Republic of the', 2344858, 2267048, 77810, 79375136, 2.45, 34.88, 10.07, 0.27, 2768604.7436800003),\n",
       " (138, 'rp', 'Philippines', 300000, 298170, 1830, 100998376, 1.61, 24.27, 6.11, 2.09, 2451230.58552),\n",
       " (114, 'mx', 'Mexico', 1964375, 1943945, 20430, 121736809, 1.18, 18.78, 5.26, 1.68, 2286217.27302),\n",
       " (53, 'eg', 'Egypt', 1001450, 995450, 6000, 88487396, 1.79, 22.9, 4.77, 0.19, 2026361.3683999998)]"
      ]
     },
     "execution_count": 66,
     "metadata": {},
     "output_type": "execute_result"
    }
   ],
   "source": [
    "%%sql\n",
    "\n",
    "SELECT\n",
    "    *\n",
    "    ,birth_rate * population / 1000 AS add_people\n",
    "FROM\n",
    "    facts\n",
    "ORDER BY\n",
    "    add_people DESC\n",
    "LIMIT\n",
    "    15;"
   ]
  },
  {
   "cell_type": "code",
   "execution_count": null,
   "metadata": {},
   "outputs": [],
   "source": []
  }
 ],
 "metadata": {
  "kernelspec": {
   "display_name": "Python 3",
   "language": "python",
   "name": "python3"
  },
  "language_info": {
   "codemirror_mode": {
    "name": "ipython",
    "version": 3
   },
   "file_extension": ".py",
   "mimetype": "text/x-python",
   "name": "python",
   "nbconvert_exporter": "python",
   "pygments_lexer": "ipython3",
   "version": "3.7.9"
  }
 },
 "nbformat": 4,
 "nbformat_minor": 4
}
